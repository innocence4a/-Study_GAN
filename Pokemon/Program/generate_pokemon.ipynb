{
 "cells": [
  {
   "attachments": {},
   "cell_type": "markdown",
   "metadata": {},
   "source": [
    "aaa"
   ]
  },
  {
   "cell_type": "code",
   "execution_count": 38,
   "metadata": {},
   "outputs": [],
   "source": [
    "# https://qiita.com/shimopino/items/f096cd92c5107ee02208\n",
    "# https://qiita.com/ttttkkkkk31525/items/c2ee07f27065a03c56f2\n",
    "# PGGANはProgressive Growing GANの略で、Progressive GANとも呼ばれます (GitHubの検索とかのときのために統一してほしい...)。画質を少しずつ向上させることによって、以前のものより高画質な画像を生成できるようになります。\n",
    "# https://gist.github.com/bababax11/d8297befc4e02bba3b21b473ae92e58f\n",
    "# https://www.inoue-kobo.com/ai_ml/gan-pikachu/index.html#%E3%83%8B%E3%83%A5%E3%83%BC%E3%83%A9%E3%83%AB%E3%83%8D%E3%83%83%E3%83%88%E3%83%AF%E3%83%BC%E3%82%AF%E3%81%AE%E6%A7%8B%E9%80%A0\n",
    "# https://github.com/lhideki/gan-pikachu\n"
   ]
  },
  {
   "cell_type": "code",
   "execution_count": 39,
   "metadata": {},
   "outputs": [
    {
     "name": "stdout",
     "output_type": "stream",
     "text": [
      "Found existing installation: chromedriver-binary 112.0.5615.28.0\n",
      "Uninstalling chromedriver-binary-112.0.5615.28.0:\n",
      "  Would remove:\n",
      "    /Users/seijun/miniforge3/envs/python310/bin/chromedriver-path\n",
      "    /Users/seijun/miniforge3/envs/python310/lib/python3.10/site-packages/chromedriver_binary-112.0.5615.28.0.dist-info/*\n",
      "    /Users/seijun/miniforge3/envs/python310/lib/python3.10/site-packages/chromedriver_binary/*\n",
      "Proceed (Y/n)? ^C\n",
      "\u001b[31mERROR: Operation cancelled by user\u001b[0m\u001b[31m\n",
      "\u001b[0mRequirement already satisfied: chromedriver-binary==112.0.5615.28.0 in /Users/seijun/miniforge3/envs/python310/lib/python3.10/site-packages (112.0.5615.28.0)\n"
     ]
    }
   ],
   "source": [
    "# !pip install chromedriver-binary==112.0.5615.28.0\n",
    "# !pip uninstall chromedriver-binary\n",
    "# !pip install chromedriver-binary==112.0.5615.28.0"
   ]
  },
  {
   "cell_type": "code",
   "execution_count": 58,
   "metadata": {},
   "outputs": [],
   "source": [
    "# https://www.sukerou.com/2021/09/pythonselenium.html\n",
    "import requests\n",
    "from bs4 import BeautifulSoup\n",
    "from selenium import webdriver\n",
    "from time import sleep\n",
    "import os\n",
    "from selenium import webdriver              # Webブラウザを自動操作する（python -m pip install selenium)\n",
    "import chromedriver_binary                  # パスを通すためのコード\n",
    "from selenium.webdriver.chrome.options import Options # オプションを使うために必要\n",
    "from selenium.webdriver.common.by import By\n",
    "from selenium.common.exceptions import NoSuchElementException\n",
    "import time\n",
    "\n",
    "\n",
    "# option = Options()                          # オプションを用意\n",
    "# option.add_argument('--incognito')          # シークレットモードの設定を付与\n",
    "driver = webdriver.Chrome()\n",
    "# driver = webdriver.Chrome(options=option)   # Chromeを準備(optionでシークレットモードにしている）\n",
    "\n",
    "url = \"https://zukan.pokemon.co.jp\"\n",
    "\n",
    "#ブラウザのウインドウ高を取得する\n",
    "driver.get(url)\n",
    "win_height = driver.execute_script(\"return window.innerHeight\")\n",
    "\n",
    "#スクロール開始位置の初期値（ページの先頭からスクロールを開始する）\n",
    "last_top = 1\n",
    "\n",
    "#ページの最下部までスクロールする無限ループ\n",
    "while True:\n",
    "\n",
    "  #スクロール前のページの高さを取得\n",
    "  last_height = driver.execute_script(\"return document.body.scrollHeight\")\n",
    "  \n",
    "  #スクロール開始位置を設定\n",
    "  top = last_top\n",
    "\n",
    "  #ページ最下部まで、徐々にスクロールしていく\n",
    "  while top < last_height:\n",
    "    top += int(win_height * 0.8)\n",
    "    driver.execute_script(\"window.scrollTo(0, %d)\" % top)\n",
    "    time.sleep(0.5)\n",
    "\n",
    "  #１秒待って、スクロール後のページの高さを取得する\n",
    "  time.sleep(1)\n",
    "  new_last_height = driver.execute_script(\"return document.body.scrollHeight\")\n",
    "\n",
    "  #スクロール前後でページの高さに変化がなくなったら無限スクロール終了とみなしてループを抜ける\n",
    "  if last_height == new_last_height:\n",
    "    break\n",
    "\n",
    "  #次のループのスクロール開始位置を設定\n",
    "  last_top = last_height"
   ]
  },
  {
   "cell_type": "code",
   "execution_count": 59,
   "metadata": {},
   "outputs": [
    {
     "ename": "AttributeError",
     "evalue": "'NoneType' object has no attribute 'get'",
     "output_type": "error",
     "traceback": [
      "\u001b[0;31m---------------------------------------------------------------------------\u001b[0m",
      "\u001b[0;31mAttributeError\u001b[0m                            Traceback (most recent call last)",
      "Cell \u001b[0;32mIn[59], line 17\u001b[0m\n\u001b[1;32m     15\u001b[0m img_tag \u001b[39m=\u001b[39m a_tag\u001b[39m.\u001b[39mfind(\u001b[39m\"\u001b[39m\u001b[39mimg\u001b[39m\u001b[39m\"\u001b[39m)\n\u001b[1;32m     16\u001b[0m \u001b[39m# スクロール後に現れるデータに対しての処理\u001b[39;00m\n\u001b[0;32m---> 17\u001b[0m \u001b[39mif\u001b[39;00m img_tag\u001b[39m.\u001b[39;49mget(\u001b[39m\"\u001b[39m\u001b[39mloading\u001b[39m\u001b[39m\"\u001b[39m) \u001b[39m==\u001b[39m \u001b[39m\"\u001b[39m\u001b[39mlazy\u001b[39m\u001b[39m\"\u001b[39m:\n\u001b[1;32m     18\u001b[0m     url_href \u001b[39m=\u001b[39m url \u001b[39m+\u001b[39m  a_tag\u001b[39m.\u001b[39mget(\u001b[39m\"\u001b[39m\u001b[39mhref\u001b[39m\u001b[39m\"\u001b[39m)\n\u001b[1;32m     19\u001b[0m     driver\u001b[39m.\u001b[39mexecute_script(\u001b[39m\"\u001b[39m\u001b[39mwindow.open(arguments[0], \u001b[39m\u001b[39m'\u001b[39m\u001b[39m_blank\u001b[39m\u001b[39m'\u001b[39m\u001b[39m)\u001b[39m\u001b[39m\"\u001b[39m,url_href)\n",
      "\u001b[0;31mAttributeError\u001b[0m: 'NoneType' object has no attribute 'get'"
     ]
    }
   ],
   "source": [
    "def download_image(url, file_path):\n",
    "  r = requests.get(url, stream=True)\n",
    "\n",
    "  if r.status_code == 200:\n",
    "    with open(file_path, \"wb\") as f:\n",
    "      f.write(r.content)\n",
    "\n",
    "soup = BeautifulSoup(driver.page_source, 'html.parser')\n",
    "a_tags = soup.find_all(\"a\")\n",
    "\n",
    "url = \"https://zukan.pokemon.co.jp\"   \n",
    "save_dir = \"../Dataset/pokemonzukan/\"\n",
    "\n",
    "for a_tag in a_tags:\n",
    "    img_tag = a_tag.find(\"img\")\n",
    "    # スクロール後に現れるデータに対しての処理\n",
    "    if img_tag.get(\"loading\") == \"lazy\":\n",
    "        url_href = url +  a_tag.get(\"href\")\n",
    "        driver.execute_script(\"window.open(arguments[0], '_blank')\",url_href)\n",
    "        \n",
    "        pokemon_name = img_tag.get(\"alt\")\n",
    "        \n",
    "        # 現在のウィンドウハンドルを取得する\n",
    "        current_window_handle = driver.current_window_handle\n",
    "        # 新しいウィンドウに切り替える\n",
    "        driver.switch_to.window(driver.window_handles[-1])\n",
    "        \n",
    "        # 新しく開いたページ内のHTMLデータを取得する\n",
    "        soup2 = BeautifulSoup(driver.page_source, 'html.parser')\n",
    "        main_tag = soup2.find(\"main\")\n",
    "        img_tag2 = main_tag.find(\"img\")\n",
    "        \n",
    "        if img_tag2.get(\"alt\") == pokemon_name:\n",
    "            # ファイルを保存\n",
    "            file_name = \"{}.png\".format(pokemon_name)\n",
    "            image_path = os.path.join(save_dir, file_name)\n",
    "            download_image(url=img_tag2.get(\"src\"), file_path=image_path)\n",
    "        \n",
    "        # ここでポケモンデータを集めるスクリプト書きたい。\n",
    "        # print(pokemon_name)\n",
    "        # div_tags = main_tag.find_all(\"div\")\n",
    "        # for div_tag in div_tags:\n",
    "        #   print(div_tag.h2.small.text)\n",
    "        \n",
    "        driver.close()\n",
    "        # 元のウィンドウに切り替える\n",
    "        driver.switch_to.window(current_window_handle)\n",
    "        time.sleep(0.2)\n",
    "        "
   ]
  },
  {
   "cell_type": "code",
   "execution_count": null,
   "metadata": {},
   "outputs": [],
   "source": [
    "# https://taiyosite.com/pokeapi-elementary/"
   ]
  },
  {
   "cell_type": "code",
   "execution_count": null,
   "metadata": {},
   "outputs": [],
   "source": []
  },
  {
   "cell_type": "code",
   "execution_count": null,
   "metadata": {},
   "outputs": [],
   "source": []
  },
  {
   "cell_type": "code",
   "execution_count": null,
   "metadata": {},
   "outputs": [],
   "source": []
  },
  {
   "cell_type": "code",
   "execution_count": null,
   "metadata": {},
   "outputs": [],
   "source": []
  },
  {
   "cell_type": "code",
   "execution_count": null,
   "metadata": {},
   "outputs": [],
   "source": []
  },
  {
   "cell_type": "code",
   "execution_count": null,
   "metadata": {},
   "outputs": [],
   "source": [
    "# soup = BeautifulSoup(driver.page_source, 'html.parser')\n",
    "# image_tags = soup.find_all(\"img\")\n",
    "\n",
    "\n",
    "\n",
    "# save_dir = \"../Dataset/pokemonzukan/\"\n",
    "# images = []\n",
    "# for image_tag in image_tags:\n",
    "#   if image_tag.get(\"loading\") == \"lazy\":\n",
    "#     # images.append(image_tag.get(\"src\"))\n",
    "#     file_name = \"{}.png\".format(image_tag.get(\"alt\"))\n",
    "#     image_path = os.path.join(save_dir, file_name)\n",
    "#     download_image(url=image_tag.get(\"src\"), file_path=image_path)"
   ]
  }
 ],
 "metadata": {
  "kernelspec": {
   "display_name": "python310",
   "language": "python",
   "name": "python3"
  },
  "language_info": {
   "codemirror_mode": {
    "name": "ipython",
    "version": 3
   },
   "file_extension": ".py",
   "mimetype": "text/x-python",
   "name": "python",
   "nbconvert_exporter": "python",
   "pygments_lexer": "ipython3",
   "version": "3.10.10"
  },
  "orig_nbformat": 4
 },
 "nbformat": 4,
 "nbformat_minor": 2
}
